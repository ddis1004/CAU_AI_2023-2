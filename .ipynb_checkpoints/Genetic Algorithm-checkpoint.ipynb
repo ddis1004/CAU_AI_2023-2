{
 "cells": [
  {
   "cell_type": "markdown",
   "metadata": {},
   "source": [
    "<hr style=\"border:2px solid gray\"> </hr>\n",
    "\n",
    "# Traveling Salesman Problem\n",
    "\n",
    "### Genetic Algorithm \n",
    "<hr style=\"border:2px solid gray\"> </hr>"
   ]
  },
  {
   "cell_type": "markdown",
   "metadata": {},
   "source": [
    "# Step 0. Importing packages and Global Settings"
   ]
  },
  {
   "cell_type": "markdown",
   "metadata": {
    "id": "fBaMGtxWsEuo"
   },
   "source": [
    "---------------------------------------------------------------\n",
    "## (Optional) For Colab"
   ]
  },
  {
   "cell_type": "markdown",
   "metadata": {
    "id": "Y0V4SxSasSCh"
   },
   "source": [
    "---------------------------------------------------------------"
   ]
  },
  {
   "cell_type": "code",
   "execution_count": 1,
   "metadata": {},
   "outputs": [],
   "source": [
    "# package list\n",
    "import numpy as np\n",
    "import sys\n",
    "from sklearn.metrics.pairwise import euclidean_distances\n",
    "import matplotlib.pyplot as plt\n",
    "import time\n",
    "\n",
    "# Global Variables\n",
    "# GA\n",
    "POOL_SIZE = 20\n",
    "TOURNAMENT_SIZE = 5\n",
    "MAX_ITERATION = 10000\n",
    "\n",
    "# SA\n",
    "MAX_EVALUATION = 100\n",
    "SUB_ITERATIONS = 50\n",
    "TEMPERATURE = 100\n",
    "COOLING_RATIO = 0.5\n",
    "TEMP_LIMIT = 1\n",
    "\n",
    "np.random.seed(0)\n",
    "# Plot Settings\n",
    "PLOT_MODE = False #Draw Route\n",
    "AVERAGE_COST_PRINT = True\n",
    "plt.ion()\n",
    "\n",
    "# First City Index\n",
    "FIRST_IDX = 0\n",
    "\n",
    "averages = []"
   ]
  },
  {
   "cell_type": "code",
   "execution_count": 2,
   "metadata": {
    "executionInfo": {
     "elapsed": 478,
     "status": "ok",
     "timestamp": 1663472959833,
     "user": {
      "displayName": "서왕덕",
      "userId": "04395212646957231270"
     },
     "user_tz": -540
    },
    "id": "eRLCYqRFpgRP"
   },
   "outputs": [],
   "source": [
    "file_path = 'data1.txt'"
   ]
  },
  {
   "cell_type": "markdown",
   "metadata": {},
   "source": [
    "# Step 1. Data Loading"
   ]
  },
  {
   "cell_type": "code",
   "execution_count": 3,
   "metadata": {},
   "outputs": [],
   "source": [
    "def fileloader():\n",
    "    #     Data Format\n",
    "    #     ---------------------------------------------------------\n",
    "    #     NAME : pia3056\n",
    "    #     COMMENT : Bonn VLSI data set with 3056 points\n",
    "    #     COMMENT : Uni Bonn, Research Institute for Discrete Math\n",
    "    #     COMMENT : Contributed by Andre Rohe\n",
    "    #     TYPE : TSP\n",
    "    #     DIMENSION : 3056 -----------------------------|\n",
    "    #     EDGE_WEIGHT_TYPE : EUC_2D                     |\n",
    "    #     NODE_COORD_SECTION                            |\n",
    "    #     1 0 11 (2 dimentional coordinate of city)     |\n",
    "    #     2 0 115                                       |\n",
    "    #     ...                                           |\n",
    "    #     ...(Total 3056 nodes)<------------------------|\n",
    "    #     EOF\n",
    "    #     ---------------------------------------------------------\n",
    "    with open(file_path, \"r\") as file:\n",
    "        file_str = file.readlines()\n",
    "\n",
    "    # Get the coordinates of cities\n",
    "    coord_str = file_str[8:-1]  # first city string to last city string (EOF 전까지)\n",
    "    coord_list = np.zeros((len(coord_str), 2))\n",
    "    for idx, item in enumerate(coord_str):\n",
    "        items = item.split()\n",
    "        coord_list[idx, 0], coord_list[idx, 1] = int(items[1]), int(items[2])\n",
    "\n",
    "    return coord_list"
   ]
  },
  {
   "cell_type": "markdown",
   "metadata": {},
   "source": [
    "# Step 2. Initialization"
   ]
  },
  {
   "cell_type": "code",
   "execution_count": 4,
   "metadata": {},
   "outputs": [],
   "source": [
    "def initialize_greedy(coord_list, first_idx):\n",
    "    cnt_cities = len(coord_list)\n",
    "    # Initialize path and insert first city index to the first and last elements\n",
    "    path = np.zeros(cnt_cities + 1, dtype=np.int32)\n",
    "    path[0], path[-1] = first_idx, first_idx\n",
    "\n",
    "    # Euclidean distance map between cities\n",
    "    path_map = euclidean_distances(coord_list, coord_list)\n",
    "    \n",
    "    cities_tovisit = np.ones((cnt_cities), dtype=np.bool_)\n",
    "    cities_tovisit[first_idx] = False\n",
    "\n",
    "    # Iteratively Connect nearest cities\n",
    "    for i in range(1, cnt_cities):\n",
    "        start_idx = path[i - 1]\n",
    "        distance_from_start = path_map[start_idx, :]\n",
    "        nearest_list = np.argsort(distance_from_start)\n",
    "        for idx in range(len(nearest_list)):\n",
    "            # check the nearest city is visited\n",
    "            if cities_tovisit[nearest_list[idx]]:\n",
    "                nearest_city = nearest_list[idx]\n",
    "                break\n",
    "        cities_tovisit[nearest_city] = False\n",
    "        path[i] = nearest_city\n",
    "\n",
    "    return path_map, path\n",
    "\n",
    "def initialize_random(coord_list, first_idx):\n",
    "    cnt_cities = len(coord_list)\n",
    "    path = np.zeros(cnt_cities + 1, dtype=np.int32)\n",
    "\n",
    "    path[0], path[-1] = first_idx, first_idx\n",
    "    # Euclidean distance map between cities\n",
    "    path_map = euclidean_distances(coord_list, coord_list)\n",
    "\n",
    "    # city indices without first city index\n",
    "    cities_tovisit = np.delete(np.arange(cnt_cities), first_idx)\n",
    "    cities_random = np.random.permutation(cities_tovisit)\n",
    "    path[1:-1] = cities_random\n",
    "\n",
    "    return path_map, path\n",
    "\n",
    "def path_cost(path_map, path):\n",
    "    # The array of cost between cities in the path\n",
    "    cnt_cities = path_map.shape[0]\n",
    "    cost_arr = np.zeros(cnt_cities)\n",
    "    for i in range(cnt_cities):\n",
    "        cost_arr[i] = path_map[path[i], path[i+1]]\n",
    "\n",
    "    return cost_arr"
   ]
  },
  {
   "cell_type": "markdown",
   "metadata": {},
   "source": [
    "# Step 3. Searching a path\n",
    "\n",
    "## Algorithm 4. Genetic Algorithm "
   ]
  },
  {
   "cell_type": "code",
   "execution_count": 5,
   "metadata": {
    "scrolled": true
   },
   "outputs": [],
   "source": [
    "def two_opt_swap(path_map, path, iterations, coord_list):\n",
    "    cnt_cities = path_map.shape[0]\n",
    "    # Save the best path\n",
    "\n",
    "    cost_arr = path_cost(path_map, path)\n",
    "    best_path = path.copy()\n",
    "    best_cost = cost_arr.sum()\n",
    "    \n",
    "    for i in range(iterations):\n",
    "        curr_path = best_path.copy()\n",
    "        # Select two indices of flip points\n",
    "        sel_idx = np.sort(np.random.choice(np.arange(1, cnt_cities + 1), 2))\n",
    "\n",
    "        # Path Flip and update cost array\n",
    "        curr_path[sel_idx[0]:sel_idx[1]] = np.flip(curr_path[sel_idx[0]: sel_idx[1]])\n",
    "        cost_arr = path_cost(path_map, curr_path)\n",
    "\n",
    "        # Compare to the best path\n",
    "        curr_cost = cost_arr.sum()\n",
    "        if curr_cost < best_cost:\n",
    "            best_path = curr_path\n",
    "            best_cost = curr_cost\n",
    "    \n",
    "    temperature = TEMPERATURE\n",
    "    while temperature > TEMP_LIMIT:\n",
    "        curr_path = best_path.copy()\n",
    "        # Select two indices of flip points\n",
    "        sel_idx = np.sort(np.random.choice(np.arange(1, cnt_cities + 1), 2))\n",
    "\n",
    "        # Path Flip and update cost array\n",
    "        curr_path[sel_idx[0]:sel_idx[1]] = np.flip(curr_path[sel_idx[0]: sel_idx[1]])\n",
    "        cost_arr = path_cost(path_map, curr_path)\n",
    "        curr_cost = cost_arr.sum()\n",
    "\n",
    "        if curr_cost <= best_cost:\n",
    "            best_path, best_cost = curr_path, curr_cost\n",
    "        else:\n",
    "            prob = 1 / np.exp((curr_cost - best_cost) / float(temperature))\n",
    "            if prob > np.random.rand(1):\n",
    "                best_path, best_cost = curr_path, curr_cost\n",
    "        temperature = temperature * COOLING_RATIO \n",
    "    return best_path, best_cost"
   ]
  },
  {
   "cell_type": "code",
   "execution_count": 6,
   "metadata": {},
   "outputs": [],
   "source": [
    "def sa(path_map, path, coord_list):\n",
    "    best_path, best_cost = path.copy() , path_cost(path_map, path).sum()\n",
    "\n",
    "    for i in range(MAX_EVALUATION):\n",
    "        curr_path = best_path.copy()\n",
    "        new_path, new_cost = two_opt_swap(path_map, curr_path, SUB_ITERATIONS, coord_list)\n",
    "\n",
    "        if new_cost < best_cost:\n",
    "            best_path, best_cost = new_path, new_cost\n",
    "            \n",
    "    return best_path, best_cost"
   ]
  },
  {
   "cell_type": "code",
   "execution_count": 7,
   "metadata": {},
   "outputs": [],
   "source": [
    "def initialization(coord_list):\n",
    "    cnt_cities = len(coord_list)\n",
    "    path_pool = np.zeros((POOL_SIZE, cnt_cities + 1), dtype=np.int32)\n",
    "    pool_cost = np.zeros(POOL_SIZE)\n",
    "    \n",
    "    path_map, path_pool[0, :] = initialize_greedy(coord_list, FIRST_IDX)\n",
    "    pool_cost[0] = path_cost(path_map, path_pool[0, :]).sum()\n",
    "\n",
    "#     print('Path {} is initialized'.format(0))\n",
    "\n",
    "    for i in range(1, POOL_SIZE):\n",
    "        _, path_pool[i, :] = initialize_random(coord_list, FIRST_IDX)\n",
    "        path_pool[i, :], pool_cost[i] = sa(path_map, path_pool[i, :], coord_list) \n",
    "        #random 하게 initialize, sa로 다듬은 후  삽입\n",
    "#         print('Path {} is initialized'.format(i))\n",
    "    \n",
    "    return path_pool, pool_cost, path_map"
   ]
  },
  {
   "cell_type": "code",
   "execution_count": 8,
   "metadata": {},
   "outputs": [],
   "source": [
    "def simple_best_selection(pool_cost, TOURNAMENT_SIZE, sel_size = 2):\n",
    "    sort_idx = np.argsort(pool_cost)\n",
    "    best_idx = sort_idx[0:sel_size]\n",
    "    return best_idx"
   ]
  },
  {
   "cell_type": "code",
   "execution_count": 9,
   "metadata": {},
   "outputs": [],
   "source": [
    "def selection(pool_cost, TOURNAMENT_SIZE, sel_size=2):\n",
    "    # tournament selection\n",
    "    sel_idx = np.random.choice(POOL_SIZE, TOURNAMENT_SIZE, replace=False)\n",
    "    sel_cost = pool_cost[sel_idx]\n",
    "    best_idx = sel_idx[np.argsort(sel_cost)][:sel_size]\n",
    "    return best_idx"
   ]
  },
  {
   "cell_type": "code",
   "execution_count": 10,
   "metadata": {},
   "outputs": [],
   "source": [
    "# pmx crossover\n",
    "def crossover(path1, path2, path_map):\n",
    "    cnt_cities = len(path1) - 1\n",
    "    # Select two indices of crossover points\n",
    "    sel_idx = np.sort(np.random.choice(np.arange(1, cnt_cities), 2))\n",
    "    # Initialize child path\n",
    "    child_path = np.zeros(cnt_cities + 1, dtype=np.int32)\n",
    "    child_path[0], child_path[-1] = -1, -1\n",
    "    # Copy the path between crossover points\n",
    "    child_path[sel_idx[0]:sel_idx[1]] = path1[sel_idx[0]:sel_idx[1]]\n",
    "    # Copy the rest of the path from path2\n",
    "    path2_idx = np.where(np.isin(path2, child_path) == False)[0]\n",
    "    child_path[np.where(child_path == 0)[0]] = path2[path2_idx]\n",
    "    child_path[0], child_path[-1] = FIRST_IDX, FIRST_IDX\n",
    "\n",
    "    return child_path\n"
   ]
  },
  {
   "cell_type": "code",
   "execution_count": 11,
   "metadata": {},
   "outputs": [],
   "source": [
    "# pmx crossover\n",
    "def crossover_ver1(path1, path2, path_map):\n",
    "    cnt_cities = len(path1) - 1\n",
    "    # Select two indices of crossover points\n",
    "    sel_idx = np.sort(np.random.choice(np.arange(1, cnt_cities), 2))\n",
    "    # Initialize child path\n",
    "    child_path = np.zeros(cnt_cities + 1, dtype=np.int32)\n",
    "    child_path2 = np.zeros(cnt_cities + 1, dtype=np.int32)\n",
    "    child_path[0], child_path[-1] = -1, -1\n",
    "    child_path2[0], child_path2[-1] = -1, -1\n",
    "    \n",
    "    # Copy the path between crossover points\n",
    "    child_path[sel_idx[0]:sel_idx[1]] = path1[sel_idx[0]:sel_idx[1]]\n",
    "    child_path2[sel_idx[0]:sel_idx[1]] = path2[sel_idx[0]:sel_idx[1]]\n",
    "    \n",
    "    # Copy the rest of the path from path2\n",
    "    path2_idx = np.where(np.isin(path2, child_path) == False)[0]\n",
    "    path1_idx = np.where(np.isin(path1, child_path2) == False)[0]\n",
    "    child_path[np.where(child_path == 0)[0]] = path2[path2_idx]\n",
    "    child_path2[np.where(child_path2 == 0)[0]] = path1[path1_idx]\n",
    "    child_path[0], child_path[-1] = FIRST_IDX, FIRST_IDX\n",
    "    child_path2[0], child_path2[-1] = FIRST_IDX, FIRST_IDX\n",
    "    \n",
    "    child_cost = path_cost(path_map, child_path).sum()\n",
    "    child_cost2 = path_cost(path_map, child_path2).sum()\n",
    "    \n",
    "    if child_cost < child_cost2:\n",
    "        return child_path\n",
    "    else:\n",
    "        return child_path2\n",
    "\n",
    "    \n",
    "    return child_path"
   ]
  },
  {
   "cell_type": "code",
   "execution_count": 12,
   "metadata": {},
   "outputs": [],
   "source": [
    "# Create two child using OX crossover. \n",
    "# Return both of them.\n",
    "def crossover_ox_r2(path1, path2):\n",
    "    cnt_cities = len(path1) - 1\n",
    "    # Select two indices of crossover points\n",
    "    sel_idx = np.sort(np.random.choice(np.arange(1, cnt_cities), 2))\n",
    "    # Initialize child path\n",
    "    child_path1 = np.zeros(cnt_cities + 1, dtype=np.int32)\n",
    "    child_path2 = np.zeros(cnt_cities + 1, dtype=np.int32)\n",
    "    child_path1[0], child_path1[-1], child_path2[-1], child_path2[0] = -1, -1, -1, -1\n",
    "    \n",
    "    #Copy path between crossover points\n",
    "    child_path1[sel_idx[0]:sel_idx[1]] = path1[sel_idx[0]:sel_idx[1]]\n",
    "    child_path2[sel_idx[0]:sel_idx[1]] = path2[sel_idx[0]:sel_idx[1]]\n",
    "#     print(f'crossover point : {sel_idx[0]}, {sel_idx[1]}')\n",
    "    \n",
    "    #Copy rest of the part \n",
    "    path1_i, path2_i = 1, 1\n",
    "    for i in range(sel_idx[1], cnt_cities):\n",
    "        while path2[path2_i] in child_path1[sel_idx[0]:sel_idx[1]]:\n",
    "            path2_i += 1\n",
    "        while path1[path1_i] in child_path2[sel_idx[0]:sel_idx[1]]:\n",
    "            path1_i += 1\n",
    "        child_path1[i] = path2[path2_i]\n",
    "        child_path2[i] = path1[path1_i]\n",
    "        path1_i += 1\n",
    "        path2_i += 1\n",
    "        \n",
    "#     print(f'path1_i : {path1_i}, path2_i : {path2_i}')\n",
    "#     print(f'child path : {child_path1}, {child_path2}')\n",
    "\n",
    "    for i in range(1, sel_idx[0]):\n",
    "        while path2[path2_i] in child_path1[sel_idx[0]:sel_idx[1]]:\n",
    "            path2_i += 1\n",
    "        while path1[path1_i] in child_path2[sel_idx[0]:sel_idx[1]]:\n",
    "            path1_i += 1\n",
    "        child_path1[i] = path2[path2_i]\n",
    "        child_path2[i] = path1[path1_i]\n",
    "        path1_i += 1\n",
    "        path2_i += 1\n",
    "    \n",
    "    child_path1[0], child_path1[-1], child_path2[0], child_path2[-1] = FIRST_IDX, FIRST_IDX, FIRST_IDX, FIRST_IDX\n",
    "    return child_path1, child_path2"
   ]
  },
  {
   "cell_type": "code",
   "execution_count": 13,
   "metadata": {},
   "outputs": [],
   "source": [
    "# ox crossover\n",
    "# Create two child using OX crossover. \n",
    "# Compare them, return child with better cost.\n",
    "def crossover_ox(path1, path2, path_map):\n",
    "    cnt_cities = len(path1) - 1\n",
    "    # Select two indices of crossover points\n",
    "    sel_idx = np.sort(np.random.choice(np.arange(1, cnt_cities), 2))\n",
    "    # Initialize child path\n",
    "    child_path1 = np.zeros(cnt_cities + 1, dtype=np.int32)\n",
    "    child_path2 = np.zeros(cnt_cities + 1, dtype=np.int32)\n",
    "    child_path1[0], child_path1[-1], child_path2[-1], child_path2[0] = -1, -1, -1, -1\n",
    "    \n",
    "    #Copy path between crossover points\n",
    "    child_path1[sel_idx[0]:sel_idx[1]] = path1[sel_idx[0]:sel_idx[1]]\n",
    "    child_path2[sel_idx[0]:sel_idx[1]] = path2[sel_idx[0]:sel_idx[1]]\n",
    "#     print(f'crossover point : {sel_idx[0]}, {sel_idx[1]}')\n",
    "    \n",
    "    #Copy rest of the part \n",
    "    path1_i, path2_i = 1, 1\n",
    "    for i in range(sel_idx[1], cnt_cities):\n",
    "        while path2[path2_i] in child_path1[sel_idx[0]:sel_idx[1]]:\n",
    "            path2_i += 1\n",
    "        while path1[path1_i] in child_path2[sel_idx[0]:sel_idx[1]]:\n",
    "            path1_i += 1\n",
    "        child_path1[i] = path2[path2_i]\n",
    "        child_path2[i] = path1[path1_i]\n",
    "        path1_i += 1\n",
    "        path2_i += 1\n",
    "        \n",
    "#     print(f'path1_i : {path1_i}, path2_i : {path2_i}')\n",
    "#     print(f'child path : {child_path1}, {child_path2}')\n",
    "\n",
    "    for i in range(1, sel_idx[0]):\n",
    "        while path2[path2_i] in child_path1[sel_idx[0]:sel_idx[1]]:\n",
    "            path2_i += 1\n",
    "        while path1[path1_i] in child_path2[sel_idx[0]:sel_idx[1]]:\n",
    "            path1_i += 1\n",
    "        child_path1[i] = path2[path2_i]\n",
    "        child_path2[i] = path1[path1_i]\n",
    "        path1_i += 1\n",
    "        path2_i += 1\n",
    "    \n",
    "    child_path1[0], child_path1[-1], child_path2[0], child_path2[-1] = FIRST_IDX, FIRST_IDX, FIRST_IDX, FIRST_IDX\n",
    "#     print(f'original path: {path1} \\n {path2}')\n",
    "#     print(f'child path : {child_path1}, {child_path2}')\n",
    "\n",
    "    child1_cost = path_cost(path_map, child_path1).sum()\n",
    "    child2_cost = path_cost(path_map, child_path2).sum()\n",
    "    \n",
    "    if child1_cost < child2_cost:\n",
    "        return child_path1\n",
    "    else:\n",
    "        return child_path2"
   ]
  },
  {
   "cell_type": "code",
   "execution_count": 14,
   "metadata": {},
   "outputs": [],
   "source": [
    "# swap mutation\n",
    "def mutation(path):\n",
    "    cnt_cities = len(path)\n",
    "    child_path = path.copy()\n",
    "    # Select two indices of mutation points\n",
    "    sel_idx = np.sort(np.random.choice(np.arange(1, cnt_cities), 2))\n",
    "    # Swap the path between mutation points\n",
    "    child_path[sel_idx[0]:sel_idx[1]] = np.flip(child_path[sel_idx[0]:sel_idx[1]])\n",
    "\n",
    "    return child_path \n"
   ]
  },
  {
   "cell_type": "code",
   "execution_count": 15,
   "metadata": {},
   "outputs": [],
   "source": [
    "#insert mutation\n",
    "def insert_mutation(path):\n",
    "    cnt_cities = len(path)\n",
    "    child_path = path.copy()\n",
    "    sel_idx = np.random.choice(np.arange(1, cnt_cities - 1), 2, replace = False) #sel_idx[0]: selected city index sel_idx[1] : where to insert\n",
    "    \n",
    "    moving_city = child_path[sel_idx[0]]\n",
    "    child_path = np.delete(child_path, sel_idx[0])\n",
    "    child_path = np.insert(child_path, sel_idx[1], moving_city)\n",
    "\n",
    "    return child_path"
   ]
  },
  {
   "cell_type": "code",
   "execution_count": 16,
   "metadata": {},
   "outputs": [],
   "source": [
    "#shuffle mutation\n",
    "def shuffle_mutation(path):\n",
    "    cnt_cities = len(path)\n",
    "    child_path = path.copy()\n",
    "    sel_idx = np.random.choice(np.arange(1, cnt_cities), 2) \n",
    "    np.random.shuffle(child_path[sel_idx[0]: sel_idx[1]])\n",
    "    return child_path"
   ]
  },
  {
   "cell_type": "code",
   "execution_count": 17,
   "metadata": {},
   "outputs": [],
   "source": [
    "# genetic algorithm\n",
    "def ga(coord_list, crossover_func):\n",
    "    best_cost = np.Inf\n",
    "#     print('Start Genetic Algorithm')\n",
    "#     print('Initialize the population')\n",
    "    path_pool, pool_cost, path_map = initialization(coord_list)\n",
    "    \n",
    "#     print('Start the evolution')\n",
    "    for i in range(MAX_ITERATION):\n",
    "#         if (i+1) % 1000 == 0:\n",
    "#             print('Iteration {}'.format(i + 1))\n",
    "        # selection\n",
    "        sel_idx = selection(pool_cost, TOURNAMENT_SIZE)\n",
    "        #print('selection result : ', sel_idx)\n",
    "        \n",
    "        # crossover\n",
    "        child_crx = crossover_func(path_pool[sel_idx[0]], path_pool[sel_idx[1]], path_map)\n",
    "        cost_crx = path_cost(path_map, child_crx).sum()\n",
    "        \n",
    "        # mutation\n",
    "        sel_idx = selection(pool_cost, TOURNAMENT_SIZE, sel_size=1)\n",
    "        child_mut = mutation(path_pool[sel_idx[0]])\n",
    "        cost_mut = path_cost(path_map, child_mut).sum()\n",
    "        # replace\n",
    "        sort_idx = np.argsort(pool_cost)\n",
    "        \n",
    "        #기존 pool에서 가장 성능이 안좋은 두 개에 덮어쓰기 \n",
    "        path_pool[sort_idx[-1]], pool_cost[sort_idx[-1]] = child_crx, cost_crx \n",
    "        path_pool[sort_idx[-2]], pool_cost[sort_idx[-2]] = child_mut, cost_mut \n",
    "        \n",
    "        #extra code when using crossover_ox_r2\n",
    "#         path_pool[sort_idx[-3]], pool_cost[sort_idx[-3]] = child_crx2, path_cost(path_map, child_crx2).sum()\n",
    "\n",
    "        #현재 풀에서 가장 짧은 경로\n",
    "        cur_idx = np.argmin(pool_cost)\n",
    "        cur_path = path_pool[cur_idx]\n",
    "        cur_cost = pool_cost[cur_idx]\n",
    "        \n",
    "        if AVERAGE_COST_PRINT:\n",
    "            average_cost = sum(pool_cost)/len(pool_cost)\n",
    "            averages.append(average_cost)\n",
    "        \n",
    "        if best_cost > cur_cost:\n",
    "            best_cost = cur_cost\n",
    "            if PLOT_MODE:\n",
    "                plt.close()\n",
    "                figure, ax = plt.subplots()\n",
    "                plt.scatter(coord_list[:, 0], coord_list[:, 1], c='red', s=10)\n",
    "                plt.title('City Route: Iteration {}'.format(i + 1))\n",
    "                coord_path = coord_list\n",
    "                coord_path = np.append(coord_path, coord_path[FIRST_IDX, :].reshape(1, 2), axis=0)\n",
    "                coord_path[:, :] = coord_path[cur_path, :]\n",
    "                lines, = ax.plot(coord_path[:, 0], coord_path[:, 1], 'k--')\n",
    "                figure.canvas.draw()\n",
    "                figure.canvas.flush_events()\n",
    "                plt.show()\n",
    "            \n",
    "\n",
    "    best_idx = np.argmin(pool_cost)\n",
    "    return path_pool[best_idx], pool_cost[best_idx]"
   ]
  },
  {
   "cell_type": "code",
   "execution_count": 18,
   "metadata": {},
   "outputs": [],
   "source": [
    "# genetic algorithm\n",
    "def my_ga(coord_list):\n",
    "    best_cost = np.Inf\n",
    "    path_pool, pool_cost, path_map = initialization(coord_list)\n",
    "    \n",
    "#     print('Start the evolution')\n",
    "    for i in range(MAX_ITERATION):\n",
    "        sel_idx = selection(pool_cost, TOURNAMENT_SIZE)\n",
    "        \n",
    "        # crossover\n",
    "        child_crx = crossover_ox(path_pool[sel_idx[0]], path_pool[sel_idx[1]], path_map)\n",
    "        cost_crx = path_cost(path_map, child_crx).sum()\n",
    "        \n",
    "        # mutation\n",
    "        sel_idx =  simple_best_selection(pool_cost, 10, sel_size=1)\n",
    "        child_mut = mutation(path_pool[sel_idx[0]])\n",
    "        cost_mut = path_cost(path_map, child_mut).sum()\n",
    "        # replace\n",
    "        sort_idx = np.argsort(pool_cost)\n",
    "        \n",
    "        #기존 pool에서 가장 성능이 안좋은 두 개에 덮어쓰기 \n",
    "        path_pool[sort_idx[-1]], pool_cost[sort_idx[-1]] = child_crx, cost_crx \n",
    "        path_pool[sort_idx[-2]], pool_cost[sort_idx[-2]] = child_mut, cost_mut \n",
    "\n",
    "        #현재 풀에서 가장 짧은 경로\n",
    "        cur_idx = np.argmin(pool_cost)\n",
    "        cur_path = path_pool[cur_idx]\n",
    "        cur_cost = pool_cost[cur_idx]\n",
    "        \n",
    "        if AVERAGE_COST_PRINT:\n",
    "            average_cost = sum(pool_cost)/len(pool_cost)\n",
    "            averages.append(average_cost)\n",
    "        \n",
    "        if best_cost > cur_cost:\n",
    "            best_cost = cur_cost\n",
    "            if PLOT_MODE:\n",
    "                plt.close()\n",
    "                figure, ax = plt.subplots()\n",
    "                plt.scatter(coord_list[:, 0], coord_list[:, 1], c='red', s=10)\n",
    "                plt.title('City Route: Iteration {}'.format(i + 1))\n",
    "                coord_path = coord_list\n",
    "                coord_path = np.append(coord_path, coord_path[FIRST_IDX, :].reshape(1, 2), axis=0)\n",
    "                coord_path[:, :] = coord_path[cur_path, :]\n",
    "                lines, = ax.plot(coord_path[:, 0], coord_path[:, 1], 'k--')\n",
    "                figure.canvas.draw()\n",
    "                figure.canvas.flush_events()\n",
    "                plt.show()\n",
    "            \n",
    "\n",
    "    best_idx = np.argmin(pool_cost)\n",
    "    return path_pool[best_idx], pool_cost[best_idx]"
   ]
  },
  {
   "cell_type": "markdown",
   "metadata": {},
   "source": [
    "# Main"
   ]
  },
  {
   "cell_type": "code",
   "execution_count": 19,
   "metadata": {},
   "outputs": [
    {
     "name": "stdout",
     "output_type": "stream",
     "text": [
      "Execution Time: 13.587107419967651\n",
      "Path: [0, 11, 4, 12, 17, 24, 16, 15, 14, 13, 5, 6, 7, 1, 2, 8, 9, 3, 10, 23, 40, 41, 42, 43, 60, 59, 58, 57, 56, 50, 51, 49, 55, 62, 66, 70, 69, 65, 61, 64, 68, 81, 86, 87, 85, 84, 83, 82, 78, 75, 79, 71, 72, 89, 90, 94, 95, 96, 103, 102, 110, 109, 91, 93, 98, 101, 100, 99, 104, 105, 106, 112, 107, 108, 114, 118, 115, 119, 116, 121, 128, 127, 126, 130, 125, 124, 123, 113, 117, 120, 129, 122, 111, 97, 92, 88, 80, 77, 76, 74, 67, 63, 73, 52, 44, 45, 53, 54, 48, 47, 46, 26, 25, 18, 27, 28, 29, 30, 31, 32, 33, 34, 35, 36, 37, 38, 39, 22, 21, 20, 19, 0]\n",
      "Cost: 627.8930126009213\n"
     ]
    },
    {
     "data": {
      "text/plain": [
       "[<matplotlib.lines.Line2D at 0x21482cabe80>]"
      ]
     },
     "execution_count": 19,
     "metadata": {},
     "output_type": "execute_result"
    },
    {
     "data": {
      "image/png": "[encoded data removed]",
      "text/plain": [
       "<Figure size 432x288 with 1 Axes>"
      ]
     },
     "metadata": {
      "needs_background": "light"
     },
     "output_type": "display_data"
    }
   ],
   "source": [
    "# Step 1\n",
    "try:\n",
    "    coord_list = fileloader()\n",
    "except Exception as e:\n",
    "    print('예외 발생', e)\n",
    "    sys.exit()\n",
    "\n",
    "start_time = time.time()\n",
    "\n",
    "best_path, best_cost = ga(coord_list, crossover)\n",
    "\n",
    "print('Execution Time: ' + str(time.time() - start_time))\n",
    "print('Path: ' + str(best_path.tolist()))\n",
    "print('Cost: ' + str(best_cost))\n",
    "plt.plot(averages)"
   ]
  },
  {
   "cell_type": "markdown",
   "metadata": {},
   "source": [
    "<h1>ORIGINAL 함수 n 회 반복 테스트<h1>"
   ]
  },
  {
   "cell_type": "code",
   "execution_count": 20,
   "metadata": {},
   "outputs": [
    {
     "name": "stdout",
     "output_type": "stream",
     "text": [
      "Execution Time: 129.01861786842346\n",
      "Best of Best Path: [0, 5, 11, 4, 12, 17, 13, 14, 15, 16, 24, 25, 26, 18, 19, 20, 33, 32, 31, 30, 29, 28, 27, 53, 45, 44, 52, 73, 88, 76, 67, 63, 74, 77, 80, 81, 86, 87, 91, 93, 98, 101, 105, 104, 99, 100, 92, 97, 111, 113, 117, 120, 122, 129, 130, 128, 127, 126, 125, 124, 123, 112, 106, 107, 108, 114, 118, 115, 119, 121, 116, 109, 110, 102, 103, 96, 95, 94, 89, 90, 72, 71, 79, 85, 84, 83, 82, 78, 75, 70, 66, 62, 65, 69, 68, 64, 61, 54, 46, 47, 48, 49, 50, 51, 55, 56, 57, 58, 59, 60, 43, 42, 41, 40, 39, 38, 37, 36, 35, 34, 21, 22, 23, 10, 3, 9, 8, 2, 1, 7, 6, 0]\n",
      "Best of Best Cost: 599.8110020293736\n",
      "Average :  617.1702847578923\n"
     ]
    },
    {
     "data": {
      "image/png": "[encoded data removed]",
      "text/plain": [
       "<Figure size 432x288 with 1 Axes>"
      ]
     },
     "metadata": {
      "needs_background": "light"
     },
     "output_type": "display_data"
    }
   ],
   "source": [
    "try:\n",
    "    coord_list = fileloader()\n",
    "except Exception as e:\n",
    "    print('예외 발생', e)\n",
    "    sys.exit()\n",
    "\n",
    "start_time = time.time()\n",
    "\n",
    "original_bob_cost = np.inf\n",
    "original_bob_path = []\n",
    "original_sum = 0\n",
    "\n",
    "TEST_ITERATION = 10\n",
    "\n",
    "for i in range(TEST_ITERATION):\n",
    "    best_path, best_cost = ga(coord_list, crossover)\n",
    "    original_sum += best_cost\n",
    "    if best_cost < original_bob_cost:\n",
    "        original_bob_cost = best_cost\n",
    "        original_bob_path = best_path\n",
    "\n",
    "print('Execution Time: ' + str(time.time() - start_time))\n",
    "print('Best of Best Path: ' + str(original_bob_path.tolist()))\n",
    "print('Best of Best Cost: ' + str(original_bob_cost))\n",
    "print('Average : ', original_sum / TEST_ITERATION)\n",
    "\n",
    "plt.close()\n",
    "figure, ax = plt.subplots()\n",
    "plt.scatter(coord_list[:, 0], coord_list[:, 1], c='red', s=10)\n",
    "plt.title('City Route: ORIGINAL')\n",
    "coord_path = coord_list\n",
    "coord_path = np.append(coord_path, coord_path[FIRST_IDX, :].reshape(1, 2), axis=0)\n",
    "coord_path[:, :] = coord_path[original_bob_path, :]\n",
    "lines, = ax.plot(coord_path[:, 0], coord_path[:, 1], 'k--')\n",
    "figure.canvas.draw()\n",
    "figure.canvas.flush_events()\n",
    "plt.show()"
   ]
  },
  {
   "cell_type": "markdown",
   "metadata": {},
   "source": [
    "<h1>개선 함수 n 회 반복 테스트<h1>"
   ]
  },
  {
   "cell_type": "code",
   "execution_count": 800,
   "metadata": {},
   "outputs": [
    {
     "name": "stdout",
     "output_type": "stream",
     "text": [
      "Execution Time: 231.48696279525757\n",
      "Path: [0, 11, 4, 12, 17, 24, 16, 15, 14, 13, 5, 19, 20, 21, 22, 41, 40, 39, 38, 37, 36, 35, 34, 33, 32, 31, 30, 29, 28, 27, 18, 25, 26, 44, 52, 73, 88, 92, 86, 87, 91, 93, 98, 106, 107, 108, 112, 105, 101, 100, 99, 104, 97, 111, 129, 122, 113, 117, 120, 123, 124, 125, 130, 126, 127, 128, 121, 116, 119, 115, 118, 114, 109, 110, 102, 103, 96, 95, 94, 89, 90, 72, 71, 79, 85, 84, 83, 82, 78, 75, 70, 66, 62, 65, 69, 61, 64, 68, 81, 80, 77, 74, 76, 67, 63, 45, 53, 54, 46, 47, 48, 49, 50, 51, 55, 56, 57, 58, 59, 60, 43, 42, 23, 10, 3, 9, 8, 2, 1, 7, 6, 0]\n",
      "Cost: 606.778150197484\n",
      "Average:  618.9008650754074\n"
     ]
    },
    {
     "data": {
      "image/png": "[encoded data removed]",
      "text/plain": [
       "<Figure size 432x288 with 1 Axes>"
      ]
     },
     "metadata": {
      "needs_background": "light"
     },
     "output_type": "display_data"
    }
   ],
   "source": [
    "try:\n",
    "    coord_list = fileloader()\n",
    "except Exception as e:\n",
    "    print('예외 발생', e)\n",
    "    sys.exit()\n",
    "\n",
    "start_time = time.time()\n",
    "\n",
    "my_bob_cost = np.inf\n",
    "my_sum = 0\n",
    "\n",
    "TEST_ITERATION = 10\n",
    "\n",
    "for i in range(TEST_ITERATION):\n",
    "    best_path, best_cost = my_ga(coord_list)\n",
    "    my_sum += best_cost\n",
    "    if best_cost < my_bob_cost:\n",
    "        my_bob_cost = best_cost\n",
    "        my_bob_path = best_path\n",
    "\n",
    "print('Execution Time: ' + str(time.time() - start_time))\n",
    "print('Path: ' + str(my_bob_path.tolist()))\n",
    "print('Cost: ' + str(my_bob_cost))\n",
    "print('Average: ', my_sum / TEST_ITERATION)\n",
    "\n",
    "plt.close()\n",
    "figure, ax = plt.subplots()\n",
    "plt.scatter(coord_list[:, 0], coord_list[:, 1], c='red', s=10)\n",
    "plt.title('City Route: IMPROVED')\n",
    "coord_path = coord_list\n",
    "coord_path = np.append(coord_path, coord_path[FIRST_IDX, :].reshape(1, 2), axis=0)\n",
    "coord_path[:, :] = coord_path[my_bob_path, :]\n",
    "lines, = ax.plot(coord_path[:, 0], coord_path[:, 1], 'k--')\n",
    "figure.canvas.draw()\n",
    "figure.canvas.flush_events()\n",
    "plt.show()"
   ]
  },
  {
   "cell_type": "markdown",
   "metadata": {},
   "source": [
    "# "
   ]
  }
 ],
 "metadata": {
  "kernelspec": {
   "display_name": "Python 3",
   "language": "python",
   "name": "python3"
  },
  "language_info": {
   "codemirror_mode": {
    "name": "ipython",
    "version": 3
   },
   "file_extension": ".py",
   "mimetype": "text/x-python",
   "name": "python",
   "nbconvert_exporter": "python",
   "pygments_lexer": "ipython3",
   "version": "3.8.8"
  },
  "vscode": {
   "interpreter": {
    "hash": "b0fa6594d8f4cbf19f97940f81e996739fb7646882a419484c72d19e05852a7e"
   }
  }
 },
 "nbformat": 4,
 "nbformat_minor": 4
}
